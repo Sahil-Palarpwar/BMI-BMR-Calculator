{
 "cells": [
  {
   "cell_type": "code",
   "execution_count": 23,
   "metadata": {},
   "outputs": [
    {
     "name": "stdout",
     "output_type": "stream",
     "text": [
      "Input your height in meters: 1.76\n",
      "Input your weight in kilogram: 74\n",
      "Input your gender with M/F: m\n",
      "Input your age in years:  22\n"
     ]
    }
   ],
   "source": [
    "height = float(input(\"Input your height in meters: \"))\n",
    "weight = float(input(\"Input your weight in kilogram: \"))\n",
    "gender = input(\"Input your gender with M/F: \")\n",
    "age = float(input(\"Input your age in years:  \"))"
   ]
  },
  {
   "cell_type": "code",
   "execution_count": 24,
   "metadata": {},
   "outputs": [
    {
     "name": "stdout",
     "output_type": "stream",
     "text": [
      "Your body mass index is [BMI]:  23.89\n",
      "Your basal metabolic rate is [BMR]:  1816\n"
     ]
    }
   ],
   "source": [
    "print(\"Your body mass index is [BMI]: \", round(weight / (height * height), 2))\n",
    "\n",
    "if (gender == \"M\" or \"m\"):\n",
    "    \n",
    "    ismale = True\n",
    "    \n",
    "elif (gender == \"F\" or \"f\"):\n",
    "    \n",
    "    ismale = False   \n",
    "    \n",
    "else :\n",
    "    \n",
    "    print(\"Error detected! Please check your information!\")\n",
    "    quit()\n",
    "\n",
    "    \n",
    "if ismale:\n",
    "    \n",
    "    bmr = 66.47 + (13.75 * weight) + (500.3 * height) - (6.755 * age)\n",
    "    \n",
    "    print(\"Your basal metabolic rate is [BMR]: \",round(bmr))\n",
    "    \n",
    "else:\n",
    "    \n",
    "    bmr = 655.1 + (9.563 * weight) + (185 * height) - (4.676 * age)\n",
    "    \n",
    "    print(\"Your basal metabolic rate is [BMR]: \",round(bmr))"
   ]
  },
  {
   "cell_type": "code",
   "execution_count": null,
   "metadata": {},
   "outputs": [],
   "source": []
  }
 ],
 "metadata": {
  "kernelspec": {
   "display_name": "Python 3",
   "language": "python",
   "name": "python3"
  },
  "language_info": {
   "codemirror_mode": {
    "name": "ipython",
    "version": 3
   },
   "file_extension": ".py",
   "mimetype": "text/x-python",
   "name": "python",
   "nbconvert_exporter": "python",
   "pygments_lexer": "ipython3",
   "version": "3.8.3"
  }
 },
 "nbformat": 4,
 "nbformat_minor": 4
}
